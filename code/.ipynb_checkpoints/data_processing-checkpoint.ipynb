{
 "cells": [
  {
   "cell_type": "markdown",
   "id": "9d3d15ab",
   "metadata": {},
   "source": [
    "### This notebook documents the data preprocessing processes applied to the three datasets: \"MovieLens 1 Million\", \"Yahoo\", and \"Pinterest\".\n",
    "\n",
    "# 1. Imports"
   ]
  },
  {
   "cell_type": "code",
   "execution_count": 4,
   "id": "160299a9",
   "metadata": {
    "execution": {
     "iopub.execute_input": "2024-06-30T14:45:20.542322Z",
     "iopub.status.busy": "2024-06-30T14:45:20.535244Z",
     "iopub.status.idle": "2024-06-30T14:45:20.547431Z",
     "shell.execute_reply": "2024-06-30T14:45:20.546563Z",
     "shell.execute_reply.started": "2024-06-30T14:45:20.542295Z"
    },
    "tags": []
   },
   "outputs": [],
   "source": [
    "import pandas as pd\n",
    "import numpy as np\n",
    "import os\n",
    "from os import path\n",
    "from pathlib import Path\n",
    "from sklearn.preprocessing import LabelEncoder\n",
    "from sklearn.model_selection import train_test_split\n",
    "from sklearn.preprocessing import MultiLabelBinarizer\n",
    "import pickle\n",
    "from sklearn.metrics.pairwise import cosine_similarity\n",
    "from collections import defaultdict\n",
    "import time"
   ]
  },
  {
   "cell_type": "code",
   "execution_count": 10,
   "id": "b2a2c01f",
   "metadata": {
    "execution": {
     "iopub.execute_input": "2024-06-30T14:47:01.155746Z",
     "iopub.status.busy": "2024-06-30T14:47:01.155293Z",
     "iopub.status.idle": "2024-06-30T14:47:01.173798Z",
     "shell.execute_reply": "2024-06-30T14:47:01.173244Z",
     "shell.execute_reply.started": "2024-06-30T14:47:01.155723Z"
    },
    "tags": []
   },
   "outputs": [],
   "source": [
    "data_name = \"Yahoo\" ### Can be ML1M, Yahoo, Pinterest\n",
    "DP_DIR = Path(\"processed_data\", data_name) \n",
    "export_dir = Path(os.getcwd())\n",
    "files_path = Path(export_dir.parent, DP_DIR)\n",
    "min_num_of_items_per_user = 2\n",
    "min_num_of_users_per_item = 2"
   ]
  },
  {
   "cell_type": "code",
   "execution_count": 3,
   "id": "052a8fec",
   "metadata": {
    "execution": {
     "iopub.execute_input": "2024-04-30T09:01:08.704524Z",
     "iopub.status.busy": "2024-04-30T09:01:08.704081Z",
     "iopub.status.idle": "2024-04-30T09:01:16.547465Z",
     "shell.execute_reply": "2024-04-30T09:01:16.546122Z",
     "shell.execute_reply.started": "2024-04-30T09:01:08.704485Z"
    },
    "tags": []
   },
   "outputs": [],
   "source": [
    "# Load ML1M data\n",
    "if data_name == \"ML1M\":\n",
    "    data = pd.read_csv(Path(files_path, \"ratings.dat\"), sep=\"::\", engine=\"python\",\n",
    "                       names=[\"user_id_original\", \"item_id_original\", \"rating\", \"timestamp\"])\n",
    "    \n",
    "# Load Yahoo data\n",
    "elif data_name == \"Yahoo\":\n",
    "    data = pd.read_csv(Path(files_path, \"Yahoo_ratings.csv\"), names=[\"user_id_original\", \"item_id_original\", \"rating\"])\n",
    "\n",
    "# Load Pinterest data\n",
    "elif data_name == \"Pinterest\":\n",
    "    data = pd.read_csv(Path(files_path, \"pinterest_data.csv\"), names=[\"user_id_original\", \"item_id_original\", \"rating\"])"
   ]
  },
  {
   "cell_type": "markdown",
   "id": "de3855c3",
   "metadata": {},
   "source": [
    "# 2. Data processing"
   ]
  },
  {
   "cell_type": "code",
   "execution_count": 4,
   "id": "118301a2",
   "metadata": {
    "execution": {
     "iopub.execute_input": "2024-04-30T09:01:17.983819Z",
     "iopub.status.busy": "2024-04-30T09:01:17.983442Z",
     "iopub.status.idle": "2024-04-30T09:01:18.298485Z",
     "shell.execute_reply": "2024-04-30T09:01:18.297297Z",
     "shell.execute_reply.started": "2024-04-30T09:01:17.983780Z"
    },
    "tags": []
   },
   "outputs": [],
   "source": [
    "# Convert the ratings to binary values (1 if rating exists, 0 otherwise). \n",
    "# Keep only ratings over 70/100.\n",
    "\n",
    "if data_name=='Yahoo':\n",
    "    data[\"rating\"] = data[\"rating\"].apply(lambda x: 0 if x == 255 else x) # for Yahoo only\n",
    "    data[\"rating\"] = data[\"rating\"].apply(lambda x: 1 if x > 70 else 0)\n",
    "elif data_name=='ML1M' or data_name==\"ML1M_demographic\":\n",
    "    data[\"rating\"] = data[\"rating\"].apply(lambda x: 1 if x > 3.5 else 0)"
   ]
  },
  {
   "cell_type": "code",
   "execution_count": 5,
   "id": "d0a59772",
   "metadata": {
    "execution": {
     "iopub.execute_input": "2024-04-30T09:01:18.482834Z",
     "iopub.status.busy": "2024-04-30T09:01:18.482296Z",
     "iopub.status.idle": "2024-04-30T09:01:18.505629Z",
     "shell.execute_reply": "2024-04-30T09:01:18.504470Z",
     "shell.execute_reply.started": "2024-04-30T09:01:18.482795Z"
    },
    "tags": []
   },
   "outputs": [],
   "source": [
    "data = data[data['rating']==1]"
   ]
  },
  {
   "cell_type": "markdown",
   "id": "8d08013e",
   "metadata": {},
   "source": [
    "### recursively delete users and items with too few interactions"
   ]
  },
  {
   "cell_type": "code",
   "execution_count": 6,
   "id": "7bee6cc7",
   "metadata": {
    "execution": {
     "iopub.execute_input": "2024-04-30T09:01:19.424404Z",
     "iopub.status.busy": "2024-04-30T09:01:19.424010Z",
     "iopub.status.idle": "2024-04-30T09:01:19.735709Z",
     "shell.execute_reply": "2024-04-30T09:01:19.734513Z",
     "shell.execute_reply.started": "2024-04-30T09:01:19.424366Z"
    },
    "tags": []
   },
   "outputs": [],
   "source": [
    "num_rows_1 = 1\n",
    "num_rows_2 = 2\n",
    "\n",
    "while num_rows_1 != num_rows_2:\n",
    "    # save only users with min_num_of_items_per_user items or more\n",
    "    user_counts = data.groupby(['user_id_original'])['item_id_original'].nunique().reset_index(name='item_count')\n",
    "    filtered_users = user_counts[user_counts['item_count'] >= min_num_of_items_per_user]['user_id_original']\n",
    "    data = data[data['user_id_original'].isin(filtered_users)].reset_index(drop=True)\n",
    "    num_rows_1 = data.shape[0]\n",
    "    \n",
    "    # save only items with min_num_of_users_per_item users or more\n",
    "    item_counts = data.groupby(['item_id_original'])['user_id_original'].nunique().reset_index(name='user_count')\n",
    "    filtered_items = item_counts[item_counts['user_count'] >= min_num_of_users_per_item]['item_id_original']\n",
    "    data = data[data['item_id_original'].isin(filtered_items)].reset_index(drop=True)\n",
    "    num_rows_2 = data.shape[0]\n"
   ]
  },
  {
   "cell_type": "code",
   "execution_count": 7,
   "id": "e838736d",
   "metadata": {
    "execution": {
     "iopub.execute_input": "2024-04-30T09:01:19.983140Z",
     "iopub.status.busy": "2024-04-30T09:01:19.982767Z",
     "iopub.status.idle": "2024-04-30T09:01:20.103903Z",
     "shell.execute_reply": "2024-04-30T09:01:20.102772Z",
     "shell.execute_reply.started": "2024-04-30T09:01:19.983102Z"
    },
    "tags": []
   },
   "outputs": [],
   "source": [
    "# Encode target values\n",
    "item_encoder = LabelEncoder()\n",
    "user_encoder = LabelEncoder()\n",
    "user_encoder.fit(data.user_id_original)\n",
    "item_encoder.fit(data.item_id_original)\n",
    "\n",
    "data[\"user_id\"] = user_encoder.transform(data.user_id_original)\n",
    "data[\"item_id\"] = item_encoder.transform(data.item_id_original)\n",
    "\n",
    "# Get the number of users and items in the dataset\n",
    "num_users = data.user_id.unique().shape[0]\n",
    "num_items = data.item_id.unique().shape[0]"
   ]
  },
  {
   "cell_type": "code",
   "execution_count": 8,
   "id": "d8c5398b",
   "metadata": {
    "execution": {
     "iopub.execute_input": "2024-04-30T09:01:20.318840Z",
     "iopub.status.busy": "2024-04-30T09:01:20.318468Z",
     "iopub.status.idle": "2024-04-30T09:01:20.325404Z",
     "shell.execute_reply": "2024-04-30T09:01:20.324159Z",
     "shell.execute_reply.started": "2024-04-30T09:01:20.318803Z"
    },
    "tags": []
   },
   "outputs": [
    {
     "name": "stdout",
     "output_type": "stream",
     "text": [
      "num_items =  3381  num_users =  6037\n"
     ]
    }
   ],
   "source": [
    "print('num_items = ', num_items, ' num_users = ', num_users)"
   ]
  },
  {
   "cell_type": "markdown",
   "id": "925aad07",
   "metadata": {},
   "source": [
    "##  transform the data to encoding representation"
   ]
  },
  {
   "cell_type": "code",
   "execution_count": 9,
   "id": "73ad9f41",
   "metadata": {
    "execution": {
     "iopub.execute_input": "2024-04-30T09:01:21.335461Z",
     "iopub.status.busy": "2024-04-30T09:01:21.335099Z",
     "iopub.status.idle": "2024-04-30T09:01:21.759927Z",
     "shell.execute_reply": "2024-04-30T09:01:21.758779Z",
     "shell.execute_reply.started": "2024-04-30T09:01:21.335425Z"
    },
    "tags": []
   },
   "outputs": [],
   "source": [
    "# transform the data to encoding representation\n",
    "user_group = data[[\"user_id\",\"item_id\"]].groupby(data.user_id)\n",
    "\n",
    "users_data = pd.DataFrame(\n",
    "    data={\n",
    "        \"user_id\": list(user_group.groups.keys()),\n",
    "        \"item_ids\": list(user_group.item_id.apply(list)),\n",
    "    }    \n",
    ")\n"
   ]
  },
  {
   "cell_type": "code",
   "execution_count": 10,
   "id": "fad57051",
   "metadata": {
    "execution": {
     "iopub.execute_input": "2024-04-30T09:01:22.639855Z",
     "iopub.status.busy": "2024-04-30T09:01:22.639483Z",
     "iopub.status.idle": "2024-04-30T09:01:22.800003Z",
     "shell.execute_reply": "2024-04-30T09:01:22.798796Z",
     "shell.execute_reply.started": "2024-04-30T09:01:22.639817Z"
    },
    "tags": []
   },
   "outputs": [],
   "source": [
    "mlb = MultiLabelBinarizer()\n",
    "user_one_hot = pd.DataFrame(mlb.fit_transform(users_data[\"item_ids\"]),columns=mlb.classes_, index=users_data[\"item_ids\"].index)"
   ]
  },
  {
   "cell_type": "code",
   "execution_count": 11,
   "id": "4d2e1a0a",
   "metadata": {
    "execution": {
     "iopub.execute_input": "2024-04-30T09:01:23.111720Z",
     "iopub.status.busy": "2024-04-30T09:01:23.111340Z",
     "iopub.status.idle": "2024-04-30T09:01:23.121054Z",
     "shell.execute_reply": "2024-04-30T09:01:23.119842Z",
     "shell.execute_reply.started": "2024-04-30T09:01:23.111683Z"
    },
    "tags": []
   },
   "outputs": [],
   "source": [
    "user_one_hot[\"user_id\"]=users_data[\"user_id\"]"
   ]
  },
  {
   "cell_type": "code",
   "execution_count": 12,
   "id": "50c0d2c8",
   "metadata": {
    "execution": {
     "iopub.execute_input": "2024-04-30T09:01:23.625725Z",
     "iopub.status.busy": "2024-04-30T09:01:23.625210Z",
     "iopub.status.idle": "2024-04-30T09:01:24.731133Z",
     "shell.execute_reply": "2024-04-30T09:01:24.729807Z",
     "shell.execute_reply.started": "2024-04-30T09:01:23.625685Z"
    },
    "tags": []
   },
   "outputs": [],
   "source": [
    "# train test split\n",
    "X_train, X_test, y_train, y_test = train_test_split(user_one_hot.iloc[:,:-1], user_one_hot.iloc[:,-1], test_size=0.2, random_state=42)"
   ]
  },
  {
   "cell_type": "code",
   "execution_count": 13,
   "id": "b1b9c273",
   "metadata": {
    "execution": {
     "iopub.execute_input": "2024-04-30T09:01:24.732857Z",
     "iopub.status.busy": "2024-04-30T09:01:24.732673Z",
     "iopub.status.idle": "2024-04-30T09:01:24.737306Z",
     "shell.execute_reply": "2024-04-30T09:01:24.736435Z",
     "shell.execute_reply.started": "2024-04-30T09:01:24.732839Z"
    },
    "scrolled": true,
    "tags": []
   },
   "outputs": [],
   "source": [
    "X_train.reset_index(drop=True, inplace=True)"
   ]
  },
  {
   "cell_type": "code",
   "execution_count": 14,
   "id": "d080a49d",
   "metadata": {
    "execution": {
     "iopub.execute_input": "2024-04-30T09:01:24.738411Z",
     "iopub.status.busy": "2024-04-30T09:01:24.738206Z",
     "iopub.status.idle": "2024-04-30T09:01:24.742616Z",
     "shell.execute_reply": "2024-04-30T09:01:24.741626Z",
     "shell.execute_reply.started": "2024-04-30T09:01:24.738390Z"
    },
    "tags": []
   },
   "outputs": [],
   "source": [
    "X_test.index = np.arange(X_train.shape[0], num_users)"
   ]
  },
  {
   "cell_type": "code",
   "execution_count": 15,
   "id": "549c3b78",
   "metadata": {
    "execution": {
     "iopub.execute_input": "2024-04-30T09:01:24.754721Z",
     "iopub.status.busy": "2024-04-30T09:01:24.754113Z",
     "iopub.status.idle": "2024-04-30T09:01:25.320134Z",
     "shell.execute_reply": "2024-04-30T09:01:25.319084Z",
     "shell.execute_reply.started": "2024-04-30T09:01:24.754697Z"
    },
    "tags": []
   },
   "outputs": [],
   "source": [
    "X_test.to_csv(Path(files_path, f'test_data_{data_name}.csv'))"
   ]
  },
  {
   "cell_type": "code",
   "execution_count": 16,
   "id": "f1628df2",
   "metadata": {
    "execution": {
     "iopub.execute_input": "2024-04-30T09:01:25.321728Z",
     "iopub.status.busy": "2024-04-30T09:01:25.321547Z",
     "iopub.status.idle": "2024-04-30T09:01:27.546182Z",
     "shell.execute_reply": "2024-04-30T09:01:27.545035Z",
     "shell.execute_reply.started": "2024-04-30T09:01:25.321710Z"
    },
    "tags": []
   },
   "outputs": [],
   "source": [
    "X_train.to_csv(Path(files_path, f'train_data_{data_name}.csv'))"
   ]
  },
  {
   "cell_type": "markdown",
   "id": "d53d8d21",
   "metadata": {},
   "source": [
    "# 3. Create dictionaries for baselines"
   ]
  },
  {
   "cell_type": "code",
   "execution_count": 17,
   "id": "f3ee8a0d",
   "metadata": {
    "execution": {
     "iopub.execute_input": "2024-04-30T09:01:27.547930Z",
     "iopub.status.busy": "2024-04-30T09:01:27.547744Z",
     "iopub.status.idle": "2024-04-30T09:01:27.552097Z",
     "shell.execute_reply": "2024-04-30T09:01:27.551136Z",
     "shell.execute_reply.started": "2024-04-30T09:01:27.547912Z"
    },
    "tags": []
   },
   "outputs": [],
   "source": [
    "num_features = X_train.shape[1]"
   ]
  },
  {
   "cell_type": "markdown",
   "id": "54128b93",
   "metadata": {},
   "source": [
    "### Jaccard dictionary"
   ]
  },
  {
   "cell_type": "code",
   "execution_count": 18,
   "id": "45f0134e",
   "metadata": {
    "execution": {
     "iopub.execute_input": "2024-04-30T09:01:27.553995Z",
     "iopub.status.busy": "2024-04-30T09:01:27.553336Z",
     "iopub.status.idle": "2024-04-30T09:01:27.557321Z",
     "shell.execute_reply": "2024-04-30T09:01:27.556428Z",
     "shell.execute_reply.started": "2024-04-30T09:01:27.553967Z"
    },
    "tags": []
   },
   "outputs": [],
   "source": [
    "data_array = X_train.to_numpy() #np array of one hot, shape (|U_train|,|I|)"
   ]
  },
  {
   "cell_type": "code",
   "execution_count": 19,
   "id": "ebcacab5",
   "metadata": {
    "execution": {
     "iopub.execute_input": "2024-04-30T09:01:27.558896Z",
     "iopub.status.busy": "2024-04-30T09:01:27.558685Z",
     "iopub.status.idle": "2024-04-30T09:05:56.200081Z",
     "shell.execute_reply": "2024-04-30T09:05:56.198639Z",
     "shell.execute_reply.started": "2024-04-30T09:01:27.558875Z"
    },
    "scrolled": true,
    "tags": []
   },
   "outputs": [],
   "source": [
    "jaccard_dict = {}\n",
    "for i in range(num_features):\n",
    "    for j in range(i, num_features):\n",
    "        intersection = (data_array[:,i]*data_array[:,j]).sum()\n",
    "        union = np.count_nonzero(data_array[:,i]+data_array[:,j])\n",
    "        if union == 0:\n",
    "            jaccard_dict[(i,j)]=0\n",
    "        else:\n",
    "            jaccard_dict[(i,j)]=(intersection/union).astype('float32')"
   ]
  },
  {
   "cell_type": "code",
   "execution_count": 20,
   "id": "0e714a99",
   "metadata": {
    "execution": {
     "iopub.execute_input": "2024-04-30T09:05:56.202258Z",
     "iopub.status.busy": "2024-04-30T09:05:56.201957Z",
     "iopub.status.idle": "2024-04-30T09:06:13.385379Z",
     "shell.execute_reply": "2024-04-30T09:06:13.384168Z",
     "shell.execute_reply.started": "2024-04-30T09:05:56.202228Z"
    },
    "tags": []
   },
   "outputs": [],
   "source": [
    "file_path = Path(files_path, f'jaccard_based_sim_{data_name}.pkl')\n",
    "\n",
    "with open(file_path, 'wb') as f:\n",
    "    pickle.dump(jaccard_dict, f)"
   ]
  },
  {
   "cell_type": "markdown",
   "id": "fe7ba53b",
   "metadata": {},
   "source": [
    "### Cosine dictionary"
   ]
  },
  {
   "cell_type": "code",
   "execution_count": 21,
   "id": "d9bbd8c2",
   "metadata": {
    "execution": {
     "iopub.execute_input": "2024-04-30T09:06:13.387057Z",
     "iopub.status.busy": "2024-04-30T09:06:13.386584Z",
     "iopub.status.idle": "2024-04-30T09:06:13.866645Z",
     "shell.execute_reply": "2024-04-30T09:06:13.866133Z",
     "shell.execute_reply.started": "2024-04-30T09:06:13.387028Z"
    },
    "tags": []
   },
   "outputs": [
    {
     "data": {
      "text/plain": [
       "(3381, 3381)"
      ]
     },
     "execution_count": 21,
     "metadata": {},
     "output_type": "execute_result"
    }
   ],
   "source": [
    "cosine_items = cosine_similarity(X_train.T).astype('float32')\n",
    "cosine_items.shape"
   ]
  },
  {
   "cell_type": "code",
   "execution_count": 22,
   "id": "5dd194e5",
   "metadata": {
    "execution": {
     "iopub.execute_input": "2024-04-30T09:06:13.868519Z",
     "iopub.status.busy": "2024-04-30T09:06:13.868363Z",
     "iopub.status.idle": "2024-04-30T09:06:17.307672Z",
     "shell.execute_reply": "2024-04-30T09:06:17.306602Z",
     "shell.execute_reply.started": "2024-04-30T09:06:13.868502Z"
    },
    "tags": []
   },
   "outputs": [],
   "source": [
    "cosine_items_dict = {}\n",
    "\n",
    "# Loop through the rows and columns of the ndarray and add each element to the dictionary\n",
    "for i in range(cosine_items.shape[0]):\n",
    "    for j in range(i,cosine_items.shape[1]):\n",
    "        cosine_items_dict[(i, j)] = cosine_items[i][j]"
   ]
  },
  {
   "cell_type": "code",
   "execution_count": 23,
   "id": "050bfc58",
   "metadata": {
    "execution": {
     "iopub.execute_input": "2024-04-30T09:06:17.309192Z",
     "iopub.status.busy": "2024-04-30T09:06:17.309023Z",
     "iopub.status.idle": "2024-04-30T09:06:34.666813Z",
     "shell.execute_reply": "2024-04-30T09:06:34.665750Z",
     "shell.execute_reply.started": "2024-04-30T09:06:17.309174Z"
    },
    "tags": []
   },
   "outputs": [],
   "source": [
    "file_path = Path(files_path, f'cosine_based_sim_{data_name}.pkl')\n",
    "\n",
    "with open(file_path, 'wb') as f:\n",
    "    pickle.dump(cosine_items_dict, f)"
   ]
  },
  {
   "cell_type": "markdown",
   "id": "fc8d2059",
   "metadata": {},
   "source": [
    "### Popularity dictionary"
   ]
  },
  {
   "cell_type": "code",
   "execution_count": 24,
   "id": "4582ef23",
   "metadata": {
    "execution": {
     "iopub.execute_input": "2024-04-30T09:06:34.668196Z",
     "iopub.status.busy": "2024-04-30T09:06:34.667959Z",
     "iopub.status.idle": "2024-04-30T09:06:34.723066Z",
     "shell.execute_reply": "2024-04-30T09:06:34.722319Z",
     "shell.execute_reply.started": "2024-04-30T09:06:34.668171Z"
    },
    "tags": []
   },
   "outputs": [],
   "source": [
    "pop_array = (X_train.sum(axis=0)/X_train.sum(axis=0).max()).astype('float32') \n",
    "pop_dict = {}\n",
    "\n",
    "for i in range(num_items):\n",
    "    pop_dict[i]=pop_array[i]"
   ]
  },
  {
   "cell_type": "code",
   "execution_count": 25,
   "id": "3f48925f",
   "metadata": {
    "execution": {
     "iopub.execute_input": "2024-04-30T09:06:34.724050Z",
     "iopub.status.busy": "2024-04-30T09:06:34.723843Z",
     "iopub.status.idle": "2024-04-30T09:06:34.736592Z",
     "shell.execute_reply": "2024-04-30T09:06:34.735849Z",
     "shell.execute_reply.started": "2024-04-30T09:06:34.724033Z"
    },
    "tags": []
   },
   "outputs": [],
   "source": [
    "file_path = Path(files_path, f'pop_dict_{data_name}.pkl')\n",
    "\n",
    "with open(file_path, 'wb') as f:\n",
    "    pickle.dump(pop_dict, f)"
   ]
  }
 ],
 "metadata": {
  "kernelspec": {
   "display_name": "Python 3 (ipykernel)",
   "language": "python",
   "name": "python3"
  },
  "language_info": {
   "codemirror_mode": {
    "name": "ipython",
    "version": 3
   },
   "file_extension": ".py",
   "mimetype": "text/x-python",
   "name": "python",
   "nbconvert_exporter": "python",
   "pygments_lexer": "ipython3",
   "version": "3.7.13"
  }
 },
 "nbformat": 4,
 "nbformat_minor": 5
}
