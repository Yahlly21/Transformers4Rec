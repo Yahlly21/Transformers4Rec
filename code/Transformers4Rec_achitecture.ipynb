{
 "cells": [
  {
   "cell_type": "markdown",
   "id": "d9e52a64-b164-44a9-84e2-ed3309fe5e9f",
   "metadata": {
    "execution": {
     "iopub.execute_input": "2024-07-10T10:09:53.683880Z",
     "iopub.status.busy": "2024-07-10T10:09:53.683551Z",
     "iopub.status.idle": "2024-07-10T10:09:53.692515Z",
     "shell.execute_reply": "2024-07-10T10:09:53.691421Z",
     "shell.execute_reply.started": "2024-07-10T10:09:53.683851Z"
    },
    "tags": []
   },
   "source": [
    "# A notebook that will be dadicated to the new recommender system using transformers4rec"
   ]
  },
  {
   "cell_type": "code",
   "execution_count": 5,
   "id": "2985cf4b-1117-4c51-904d-eee94bc93fc5",
   "metadata": {
    "execution": {
     "iopub.execute_input": "2024-07-10T10:09:54.044998Z",
     "iopub.status.busy": "2024-07-10T10:09:54.044487Z",
     "iopub.status.idle": "2024-07-10T10:09:54.049297Z",
     "shell.execute_reply": "2024-07-10T10:09:54.048318Z",
     "shell.execute_reply.started": "2024-07-10T10:09:54.044975Z"
    },
    "tags": []
   },
   "outputs": [],
   "source": [
    "# !pip install transformers4rec"
   ]
  },
  {
   "cell_type": "code",
   "execution_count": 2,
   "id": "025a6109-b5e6-4861-81cd-e8a68d664074",
   "metadata": {
    "execution": {
     "iopub.execute_input": "2024-07-10T10:09:14.115755Z",
     "iopub.status.busy": "2024-07-10T10:09:14.115410Z",
     "iopub.status.idle": "2024-07-10T10:09:15.225215Z",
     "shell.execute_reply": "2024-07-10T10:09:15.218859Z",
     "shell.execute_reply.started": "2024-07-10T10:09:14.115726Z"
    },
    "tags": []
   },
   "outputs": [
    {
     "name": "stderr",
     "output_type": "stream",
     "text": [
      "/opt/conda/lib/python3.7/site-packages/tqdm/auto.py:22: TqdmWarning: IProgress not found. Please update jupyter and ipywidgets. See https://ipywidgets.readthedocs.io/en/stable/user_install.html\n",
      "  from .autonotebook import tqdm as notebook_tqdm\n"
     ]
    }
   ],
   "source": [
    "import pandas as pd\n",
    "import numpy as np\n",
    "import os\n",
    "os.environ['KMP_DUPLICATE_LIB_OK'] = 'True'\n",
    "export_dir = os.getcwd()\n",
    "from pathlib import Path\n",
    "import pickle\n",
    "from collections import defaultdict\n",
    "import time\n",
    "import torch\n",
    "import torch.nn as nn\n",
    "import torch.nn.functional as F\n",
    "import copy\n",
    "import transformers4rec"
   ]
  },
  {
   "cell_type": "code",
   "execution_count": null,
   "id": "da0209ee-e8a7-429a-ad05-898c8fa74cba",
   "metadata": {},
   "outputs": [],
   "source": []
  }
 ],
 "metadata": {
  "kernelspec": {
   "display_name": "Python 3 (ipykernel)",
   "language": "python",
   "name": "python3"
  },
  "language_info": {
   "codemirror_mode": {
    "name": "ipython",
    "version": 3
   },
   "file_extension": ".py",
   "mimetype": "text/x-python",
   "name": "python",
   "nbconvert_exporter": "python",
   "pygments_lexer": "ipython3",
   "version": "3.7.13"
  }
 },
 "nbformat": 4,
 "nbformat_minor": 5
}
